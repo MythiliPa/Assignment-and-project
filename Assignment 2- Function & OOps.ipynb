{
 "cells": [
  {
   "cell_type": "markdown",
   "id": "49a7c82f",
   "metadata": {},
   "source": [
    "# Function  \n",
    "## Write a function add_numbers that takes two numbers as arguments and returns their sum."
   ]
  },
  {
   "cell_type": "code",
   "execution_count": 5,
   "id": "d1e86f84",
   "metadata": {},
   "outputs": [
    {
     "name": "stdout",
     "output_type": "stream",
     "text": [
      "3\n"
     ]
    }
   ],
   "source": [
    "def add_numbers():\n",
    "    \n",
    "    x=1\n",
    "    y=2\n",
    "    \n",
    "    return x+y\n",
    "print(add_numbers())"
   ]
  },
  {
   "cell_type": "markdown",
   "id": "96d10350",
   "metadata": {},
   "source": [
    "## Write a function multiply_numbers that takes two numbers as arguments and returns their product"
   ]
  },
  {
   "cell_type": "code",
   "execution_count": 2,
   "id": "20153b98",
   "metadata": {},
   "outputs": [
    {
     "name": "stdout",
     "output_type": "stream",
     "text": [
      "72\n"
     ]
    }
   ],
   "source": [
    "def multiply_numbers():\n",
    "    c=8\n",
    "    d=9\n",
    "    return c*d\n",
    "\n",
    "print(multiply_numbers())"
   ]
  },
  {
   "cell_type": "markdown",
   "id": "bd013a3d",
   "metadata": {},
   "source": [
    "## Write a function divide_numbers that takes two numbers as arguments and returns their quotient. Make sure to handle the case where the second number is 0."
   ]
  },
  {
   "cell_type": "code",
   "execution_count": 1,
   "id": "a590bd51",
   "metadata": {},
   "outputs": [
    {
     "name": "stdout",
     "output_type": "stream",
     "text": [
      "the answer is division by zero\n"
     ]
    }
   ],
   "source": [
    "def divide_numbers():\n",
    "    e=35\n",
    "    f=0\n",
    "    return e/f\n",
    "    \n",
    "try:\n",
    "    print(divide_numbers())\n",
    "except ZeroDivisionError as error:\n",
    "    print(\"the answer is\", error)"
   ]
  },
  {
   "cell_type": "markdown",
   "id": "882aa8cf",
   "metadata": {},
   "source": [
    "## Write a function calculate_average that takes a lot of numbers as an argument and returns their average"
   ]
  },
  {
   "cell_type": "code",
   "execution_count": 3,
   "id": "2cc1687e",
   "metadata": {},
   "outputs": [
    {
     "name": "stdout",
     "output_type": "stream",
     "text": [
      "The average is: 46.0\n"
     ]
    }
   ],
   "source": [
    "def calculate_average():\n",
    "    s=0\n",
    "    n=[35,4,56,45,63,73]\n",
    "    for i in n:\n",
    "        s=s+i\n",
    "    avg=s/len(n)\n",
    "    return avg \n",
    "\n",
    "\n",
    "print(\"The average is:\",calculate_average())"
   ]
  },
  {
   "cell_type": "markdown",
   "id": "d7850627",
   "metadata": {},
   "source": [
    "## Write a function is_prime that takes a number as an argument and returns True if the number is prime and False otherwise"
   ]
  },
  {
   "cell_type": "code",
   "execution_count": 4,
   "id": "c30faff3",
   "metadata": {},
   "outputs": [
    {
     "name": "stdout",
     "output_type": "stream",
     "text": [
      "True\n"
     ]
    }
   ],
   "source": [
    "def is_prime():\n",
    "    g=23\n",
    "    if g<2:\n",
    "        return False\n",
    "    h=2\n",
    "    while h*h <= g:\n",
    "            if g % h ==0:               #% - modulus-> gives reminder only\n",
    "                return False            \n",
    "            h=h+1\n",
    "    return True\n",
    "            \n",
    "print(is_prime())"
   ]
  },
  {
   "cell_type": "markdown",
   "id": "6b61cc74",
   "metadata": {},
   "source": [
    "# OOPs"
   ]
  },
  {
   "cell_type": "markdown",
   "id": "c7006740",
   "metadata": {},
   "source": [
    "## Create a class Bank with attributes name and accounts. Add methods add_account, remove_account, and get_total_balance that add an account to the list, remove an account from the list, and return the total balance of all accounts, respectively."
   ]
  },
  {
   "cell_type": "code",
   "execution_count": 1,
   "id": "d0a08c65",
   "metadata": {},
   "outputs": [
    {
     "name": "stdout",
     "output_type": "stream",
     "text": [
      "Added account is: 45698099\n",
      "Added account is: 66789099\n",
      "Added account is: 26465869\n",
      "Removed account is: 66789099\n"
     ]
    },
    {
     "data": {
      "text/plain": [
       "[45698099, 26465869]"
      ]
     },
     "execution_count": 1,
     "metadata": {},
     "output_type": "execute_result"
    }
   ],
   "source": [
    "class Bank:\n",
    "\n",
    "    def __init__(self, name):        \n",
    "        self.name = name\n",
    "        self.accounts = []    \n",
    "        \n",
    "    def add_account(self, account):\n",
    "        self.accounts.append(account)\n",
    "        print(\"Added account is:\", account)\n",
    "        \n",
    "    def remove_account(self, account):\n",
    "        self.accounts.remove(account) \n",
    "        print(\"Removed account is:\", account)\n",
    "        \n",
    "    def get_total_balance(self):\n",
    "        return self.accounts\n",
    "        \n",
    "d = Bank('ty')\n",
    "\n",
    "d.add_account(45698099)\n",
    "d.add_account(66789099) \n",
    "d.add_account(26465869)\n",
    "d.remove_account(66789099)\n",
    "d.get_total_balance() "
   ]
  },
  {
   "cell_type": "code",
   "execution_count": 2,
   "id": "9e9fbfbd",
   "metadata": {},
   "outputs": [
    {
     "data": {
      "text/plain": [
       "[45698099, 26465869]"
      ]
     },
     "execution_count": 2,
     "metadata": {},
     "output_type": "execute_result"
    }
   ],
   "source": [
    "d.accounts"
   ]
  },
  {
   "cell_type": "code",
   "execution_count": 3,
   "id": "d17e08d9",
   "metadata": {},
   "outputs": [
    {
     "data": {
      "text/plain": [
       "('ty', [45698099, 26465869])"
      ]
     },
     "execution_count": 3,
     "metadata": {},
     "output_type": "execute_result"
    }
   ],
   "source": [
    "d.name, d.accounts"
   ]
  }
 ],
 "metadata": {
  "kernelspec": {
   "display_name": "Python 3 (ipykernel)",
   "language": "python",
   "name": "python3"
  },
  "language_info": {
   "codemirror_mode": {
    "name": "ipython",
    "version": 3
   },
   "file_extension": ".py",
   "mimetype": "text/x-python",
   "name": "python",
   "nbconvert_exporter": "python",
   "pygments_lexer": "ipython3",
   "version": "3.11.4"
  }
 },
 "nbformat": 4,
 "nbformat_minor": 5
}
