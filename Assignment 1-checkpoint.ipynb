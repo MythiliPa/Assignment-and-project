{
 "cells": [
  {
   "cell_type": "markdown",
   "id": "161fb6a6",
   "metadata": {},
   "source": [
    "# Question 1. Create a variable x and assign it the value 5. Print the value of x "
   ]
  },
  {
   "cell_type": "code",
   "execution_count": 2,
   "id": "a4fc904e",
   "metadata": {},
   "outputs": [
    {
     "name": "stdout",
     "output_type": "stream",
     "text": [
      "5\n"
     ]
    }
   ],
   "source": [
    "x=5\n",
    "print(x)"
   ]
  },
  {
   "cell_type": "markdown",
   "id": "b17f47b9",
   "metadata": {},
   "source": [
    "#  Question 2. Create two variables a and b, and assign them values 3 and 2 respectively. Add a and b together and print the result."
   ]
  },
  {
   "cell_type": "code",
   "execution_count": 3,
   "id": "66a0022c",
   "metadata": {},
   "outputs": [
    {
     "name": "stdout",
     "output_type": "stream",
     "text": [
      "5\n"
     ]
    }
   ],
   "source": [
    "a=3\n",
    "b=2\n",
    "c=a+b\n",
    "print(c)"
   ]
  },
  {
   "cell_type": "markdown",
   "id": "a06d1406",
   "metadata": {},
   "source": [
    "## or"
   ]
  },
  {
   "cell_type": "code",
   "execution_count": 4,
   "id": "6a86001f",
   "metadata": {},
   "outputs": [
    {
     "name": "stdout",
     "output_type": "stream",
     "text": [
      "5\n"
     ]
    }
   ],
   "source": [
    "a=3\n",
    "b=2\n",
    "a+b\n",
    "print(a+b)"
   ]
  },
  {
   "cell_type": "markdown",
   "id": "a4ea6f23",
   "metadata": {},
   "source": [
    "# Question 3. Create a variable pi and assign it the value 3.14159. Print the value of pi."
   ]
  },
  {
   "cell_type": "code",
   "execution_count": 5,
   "id": "870d1b07",
   "metadata": {},
   "outputs": [
    {
     "name": "stdout",
     "output_type": "stream",
     "text": [
      "3.14159\n"
     ]
    }
   ],
   "source": [
    "pi=3.14159\n",
    "print(pi)"
   ]
  },
  {
   "cell_type": "markdown",
   "id": "61fa2590",
   "metadata": {},
   "source": [
    "# Question 4. Create a variable radius and assign it the value 5. Calculate the area of a circle with radius radius using the formula pi * radius ** 2 and print the result"
   ]
  },
  {
   "cell_type": "code",
   "execution_count": 14,
   "id": "2704fd80",
   "metadata": {},
   "outputs": [
    {
     "name": "stdout",
     "output_type": "stream",
     "text": [
      "78.53975\n"
     ]
    }
   ],
   "source": [
    "radius=5\n",
    "area=pi*radius**2\n",
    "print(area)"
   ]
  },
  {
   "cell_type": "markdown",
   "id": "22900faa",
   "metadata": {},
   "source": [
    "# Question 5. Create a variable name and assign it your name as a string. Print a greeting using your name, such as \"Hello, [name]!\"\n"
   ]
  },
  {
   "cell_type": "code",
   "execution_count": 18,
   "id": "8c65b7f5",
   "metadata": {},
   "outputs": [
    {
     "name": "stdout",
     "output_type": "stream",
     "text": [
      "\"Hello, Mythili!\"\n"
     ]
    }
   ],
   "source": [
    "name='Mythili'\n",
    "print(f'\"Hello, {name}!\"')"
   ]
  },
  {
   "cell_type": "markdown",
   "id": "ca31271a",
   "metadata": {},
   "source": [
    "# 6. Create a variable age and assign it your age as an integer. Print a sentence that includes your age, such as \"I am[age] years old.\""
   ]
  },
  {
   "cell_type": "code",
   "execution_count": 21,
   "id": "e523662c",
   "metadata": {},
   "outputs": [
    {
     "name": "stdout",
     "output_type": "stream",
     "text": [
      "\"I am 38 years old\"\n"
     ]
    }
   ],
   "source": [
    "age=int(38)\n",
    "print(f'\"I am {age} years old\"')"
   ]
  },
  {
   "cell_type": "markdown",
   "id": "91e584ae",
   "metadata": {},
   "source": [
    "# Question 7: Create a variable height and assign it your height in meters as a float. Print a sentence that includes your height, such as \"I am [height] meters tall.\""
   ]
  },
  {
   "cell_type": "code",
   "execution_count": 22,
   "id": "0c0cef6a",
   "metadata": {},
   "outputs": [
    {
     "name": "stdout",
     "output_type": "stream",
     "text": [
      "\"I am 149.0 meters tall\"\n"
     ]
    }
   ],
   "source": [
    "height=float(149)\n",
    "print(f'\"I am {height} meters tall\"')"
   ]
  },
  {
   "cell_type": "markdown",
   "id": "00f1d2cf",
   "metadata": {},
   "source": [
    "# Question 8. Create a variable sentence and assign it a sentence as a string. Print the first letter of the sentence."
   ]
  },
  {
   "cell_type": "code",
   "execution_count": 23,
   "id": "454d6bb4",
   "metadata": {},
   "outputs": [
    {
     "name": "stdout",
     "output_type": "stream",
     "text": [
      "L\n"
     ]
    }
   ],
   "source": [
    "txt=\"Learning of python\"\n",
    "print(txt[0])"
   ]
  },
  {
   "cell_type": "markdown",
   "id": "26a07c72",
   "metadata": {},
   "source": [
    "# Question 9. Create a variable sentence and assign it a sentence as a string. Print the last letter of the sentence."
   ]
  },
  {
   "cell_type": "code",
   "execution_count": 24,
   "id": "b40bea98",
   "metadata": {},
   "outputs": [
    {
     "name": "stdout",
     "output_type": "stream",
     "text": [
      "n\n"
     ]
    }
   ],
   "source": [
    "print(txt[-1])"
   ]
  },
  {
   "cell_type": "markdown",
   "id": "27686adc",
   "metadata": {},
   "source": [
    "# Question 10. Create a variable sentence and assign it a sentence as a string. Print the length of the sentence"
   ]
  },
  {
   "cell_type": "code",
   "execution_count": 25,
   "id": "b08f79e5",
   "metadata": {},
   "outputs": [
    {
     "name": "stdout",
     "output_type": "stream",
     "text": [
      "18\n"
     ]
    }
   ],
   "source": [
    "print(len(txt))"
   ]
  }
 ],
 "metadata": {
  "kernelspec": {
   "display_name": "Python 3 (ipykernel)",
   "language": "python",
   "name": "python3"
  },
  "language_info": {
   "codemirror_mode": {
    "name": "ipython",
    "version": 3
   },
   "file_extension": ".py",
   "mimetype": "text/x-python",
   "name": "python",
   "nbconvert_exporter": "python",
   "pygments_lexer": "ipython3",
   "version": "3.11.4"
  }
 },
 "nbformat": 4,
 "nbformat_minor": 5
}
