{
 "cells": [
  {
   "cell_type": "markdown",
   "id": "49a7c82f",
   "metadata": {},
   "source": [
    "# Function  \n",
    "## Write a function add_numbers that takes two numbers as arguments and returns their sum."
   ]
  },
  {
   "cell_type": "code",
   "execution_count": 2,
   "id": "d1e86f84",
   "metadata": {},
   "outputs": [
    {
     "name": "stdout",
     "output_type": "stream",
     "text": [
      "13\n"
     ]
    }
   ],
   "source": [
    "def add_numbers(a,b):\n",
    "    return a+b\n",
    "\n",
    "print(add_numbers(6,7))"
   ]
  },
  {
   "cell_type": "markdown",
   "id": "96d10350",
   "metadata": {},
   "source": [
    "## Write a function multiply_numbers that takes two numbers as arguments and returns their product"
   ]
  },
  {
   "cell_type": "code",
   "execution_count": 3,
   "id": "20153b98",
   "metadata": {},
   "outputs": [
    {
     "name": "stdout",
     "output_type": "stream",
     "text": [
      "72\n"
     ]
    }
   ],
   "source": [
    "def multiply_numbers(c,d):\n",
    "    return c*d\n",
    "\n",
    "print(multiply_numbers(8,9))"
   ]
  },
  {
   "cell_type": "markdown",
   "id": "bd013a3d",
   "metadata": {},
   "source": [
    "## Write a function divide_numbers that takes two numbers as arguments and returns their quotient. Make sure to handle the case where the second number is 0."
   ]
  },
  {
   "cell_type": "code",
   "execution_count": 35,
   "id": "a590bd51",
   "metadata": {},
   "outputs": [
    {
     "name": "stdout",
     "output_type": "stream",
     "text": [
      "the answer is division by zero\n"
     ]
    }
   ],
   "source": [
    "def divide_numbers(e,f):\n",
    "    return e/f\n",
    "    \n",
    "try:\n",
    "    print(divide_numbers(35,0))\n",
    "except ZeroDivisionError as error:\n",
    "    print(\"the answer is\", error)"
   ]
  },
  {
   "cell_type": "markdown",
   "id": "882aa8cf",
   "metadata": {},
   "source": [
    "## Write a function calculate_average that takes a lot of numbers as an argument and returns their average"
   ]
  },
  {
   "cell_type": "code",
   "execution_count": 50,
   "id": "2cc1687e",
   "metadata": {},
   "outputs": [
    {
     "name": "stdout",
     "output_type": "stream",
     "text": [
      "The average is: 46.0\n"
     ]
    }
   ],
   "source": [
    "def calculate_average(n):\n",
    "    s=0\n",
    "\n",
    "    for i in n:\n",
    "        s=s+i\n",
    "    avg=s/len(n)\n",
    "    return avg \n",
    "\n",
    "\n",
    "print(\"The average is:\",calculate_average([35,4,56,45,63,73]))"
   ]
  },
  {
   "cell_type": "markdown",
   "id": "d7850627",
   "metadata": {},
   "source": [
    "## Write a function is_prime that takes a number as an argument and returns True if the number is prime and False otherwise"
   ]
  },
  {
   "cell_type": "code",
   "execution_count": 54,
   "id": "c30faff3",
   "metadata": {},
   "outputs": [
    {
     "name": "stdout",
     "output_type": "stream",
     "text": [
      "True\n"
     ]
    }
   ],
   "source": [
    "def is_prime(g):\n",
    "\n",
    "    if g<2:\n",
    "        return False\n",
    "    h=2\n",
    "    while h*h <= g:\n",
    "            if g % h ==0:               #% - modulus-> gives reminder only\n",
    "                return False            \n",
    "            h=h+1\n",
    "    return True\n",
    "            \n",
    "print(is_prime(23))"
   ]
  },
  {
   "cell_type": "markdown",
   "id": "6b61cc74",
   "metadata": {},
   "source": [
    "# OOPs"
   ]
  },
  {
   "cell_type": "markdown",
   "id": "c7006740",
   "metadata": {},
   "source": [
    "## Create a class Bank with attributes name and accounts. Add methods add_account, remove_account, and get_total_balance that add an account to the list, remove an account from the list, and return the total balance of all accounts, respectively."
   ]
  },
  {
   "cell_type": "code",
   "execution_count": 45,
   "id": "68cc78e7",
   "metadata": {},
   "outputs": [
    {
     "name": "stdout",
     "output_type": "stream",
     "text": [
      "Added account is: ght98\n",
      "Added account is: hhh\n",
      "Added account is: htyu57\n",
      "Removed account is: ght98\n"
     ]
    },
    {
     "data": {
      "text/plain": [
       "['hhh', 'htyu57']"
      ]
     },
     "execution_count": 45,
     "metadata": {},
     "output_type": "execute_result"
    }
   ],
   "source": [
    "class Bank:\n",
    "\n",
    "    def __init__(self, name):        \n",
    "        self.name = name\n",
    "        self.accounts = []    \n",
    "        \n",
    "    def add_account(self, account):\n",
    "        self.accounts.append(account)\n",
    "        print(\"Added account is:\", account)\n",
    "        \n",
    "    def remove_account(self, account):\n",
    "        self.accounts.remove(account) \n",
    "        print(\"Removed account is:\", account)\n",
    "        \n",
    "    def get_total_balance(self):\n",
    "        return self.accounts\n",
    "        \n",
    "d = Bank('ty')\n",
    "\n",
    "d.add_account('ght98')\n",
    "d.add_account('hhh') \n",
    "d.add_account('htyu57')\n",
    "d.remove_account('ght98')\n",
    "d.get_total_balance() "
   ]
  },
  {
   "cell_type": "code",
   "execution_count": 46,
   "id": "4a99752e",
   "metadata": {},
   "outputs": [
    {
     "data": {
      "text/plain": [
       "['hhh', 'htyu57']"
      ]
     },
     "execution_count": 46,
     "metadata": {},
     "output_type": "execute_result"
    }
   ],
   "source": [
    "d.accounts"
   ]
  },
  {
   "cell_type": "code",
   "execution_count": 49,
   "id": "65b18abc",
   "metadata": {},
   "outputs": [
    {
     "data": {
      "text/plain": [
       "('ty', ['hhh', 'htyu57'])"
      ]
     },
     "execution_count": 49,
     "metadata": {},
     "output_type": "execute_result"
    }
   ],
   "source": [
    "d.name, d.accounts"
   ]
  }
 ],
 "metadata": {
  "kernelspec": {
   "display_name": "Python 3 (ipykernel)",
   "language": "python",
   "name": "python3"
  },
  "language_info": {
   "codemirror_mode": {
    "name": "ipython",
    "version": 3
   },
   "file_extension": ".py",
   "mimetype": "text/x-python",
   "name": "python",
   "nbconvert_exporter": "python",
   "pygments_lexer": "ipython3",
   "version": "3.11.4"
  }
 },
 "nbformat": 4,
 "nbformat_minor": 5
}
